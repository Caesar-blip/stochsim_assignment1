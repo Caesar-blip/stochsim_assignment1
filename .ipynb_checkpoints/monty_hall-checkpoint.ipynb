{
 "cells": [
  {
   "cell_type": "code",
   "execution_count": 2,
   "id": "5de3f807",
   "metadata": {},
   "outputs": [],
   "source": [
    "#Import the libraries\n",
    "import random\n",
    "import matplotlib.pyplot as plt\n",
    "plt.style.use('fivethirtyeight')"
   ]
  },
  {
   "cell_type": "code",
   "execution_count": 3,
   "id": "8fe37eb7",
   "metadata": {},
   "outputs": [],
   "source": [
    "#The host will reveal a door that doesn't contain the prize\n",
    "#Remember the host knows the door that the prize is behind\n",
    "def get_non_prize_door(host, num_doors, player_choice):\n",
    "  i = 1\n",
    "  while (i == host or i== player_choice ):\n",
    "    i = (i+1)%(num_doors)\n",
    "  \n",
    "  return i"
   ]
  },
  {
   "cell_type": "code",
   "execution_count": 4,
   "id": "c90d2cc4",
   "metadata": {},
   "outputs": [],
   "source": [
    "#Have the player switch to the other unopened door\n",
    "def switch_function(shown_door, num_doors, player_choice):\n",
    "  i = 1\n",
    "  while (i == shown_door or i== player_choice ):\n",
    "    i = (i+1)%(num_doors)\n",
    "  \n",
    "  return i"
   ]
  },
  {
   "cell_type": "code",
   "execution_count": 14,
   "id": "f10e5c10",
   "metadata": {},
   "outputs": [],
   "source": [
    "def monty_hall_game(switch, num_tests):\n",
    "  win_switch_cnt = 0\n",
    "  win_no_switch_cnt = 0\n",
    "  lose_switch_cnt = 0\n",
    "  lose_no_switch_cnt = 0\n",
    "  doors = [0,1,2] #Get the doors\n",
    "  num_doors = len(doors) #Get the number of doors\n",
    "  \n",
    "  \n",
    "  for i in range(0,num_tests):\n",
    "    door_with_prize = random.randint(0, num_doors-1) #Randomly choose the door with the wanted prize\n",
    "    host = door_with_prize #The host knows which door has the prize\n",
    "    #The player chooses initially a random door that s/he believes has the prize\n",
    "    player_choice = random.randint(0, num_doors-1) \n",
    "    original_player_choice = player_choice\n",
    "    shown_door = get_non_prize_door(host, num_doors, player_choice)\n",
    "    if switch == True:\n",
    "      player_choice = switch_function(shown_door,num_doors, player_choice)\n",
    "    \n",
    "    if player_choice == host and switch == False:\n",
    "      #Then the player wins from not switching\n",
    "      #print('Player Wins (No switch) - The player chose door: ', player_choice,' Original choice: ',original_player_choice ,', Door with prize:', door_with_prize, ', Shown Door: ',shown_door )\n",
    "      win_no_switch_cnt = win_no_switch_cnt + 1\n",
    "    elif player_choice == host and switch == True:\n",
    "      #Then the player wins from switching\n",
    "      #print('Player Wins (switch) - The player chose door: ', player_choice,' Original choice: ',original_player_choice , ', Door with prize:', door_with_prize, ', Shown Door: ',shown_door )\n",
    "      win_switch_cnt = win_switch_cnt +1\n",
    "    elif player_choice != host and switch == False:\n",
    "      #The player lost from not switching\n",
    "      #print('Player Lost (No switch) - The player chose door: ', player_choice,' Original choice: ',original_player_choice , ', Door with prize:', door_with_prize, ', Shown Door: ',shown_door )\n",
    "      lose_no_switch_cnt = lose_no_switch_cnt + 1\n",
    "    elif player_choice != host and switch == True:\n",
    "      #The player lost from switching\n",
    "      #print('Player Lost (switch) - The player chose door: ', player_choice,' Original choice: ',original_player_choice , ', Door with prize:', door_with_prize, ', Shown Door: ',shown_door )\n",
    "      lose_switch_cnt = lose_switch_cnt + 1\n",
    "    else:\n",
    "      print('SOMETHING IS WRONG')\n",
    "\n",
    "  return win_no_switch_cnt,win_switch_cnt,lose_no_switch_cnt,lose_switch_cnt, num_tests"
   ]
  },
  {
   "cell_type": "code",
   "execution_count": 24,
   "id": "e72e994d",
   "metadata": {},
   "outputs": [],
   "source": [
    "win_no_switch, win_switch, lose_no_switch, lose_switch, num_test = monty_hall_game(True,100)"
   ]
  },
  {
   "cell_type": "code",
   "execution_count": 25,
   "id": "520984c2",
   "metadata": {},
   "outputs": [
    {
     "name": "stdout",
     "output_type": "stream",
     "text": [
      "win without: 0.0\n",
      "win with: 0.68\n",
      "lose without: 0.0\n",
      "lose with: 0.32\n"
     ]
    }
   ],
   "source": [
    "print(f\"win without: {win_no_switch/num_test}\")\n",
    "print(f\"win with: {win_switch/num_test}\")\n",
    "print(f\"lose without: {lose_no_switch/num_test}\")\n",
    "print(f\"lose with: {lose_switch/num_test}\")"
   ]
  }
 ],
 "metadata": {
  "kernelspec": {
   "display_name": "Python 3",
   "language": "python",
   "name": "python3"
  },
  "language_info": {
   "codemirror_mode": {
    "name": "ipython",
    "version": 3
   },
   "file_extension": ".py",
   "mimetype": "text/x-python",
   "name": "python",
   "nbconvert_exporter": "python",
   "pygments_lexer": "ipython3",
   "version": "3.9.2"
  }
 },
 "nbformat": 4,
 "nbformat_minor": 5
}

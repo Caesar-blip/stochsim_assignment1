{
 "cells": [
  {
   "cell_type": "code",
   "execution_count": 1,
   "id": "fa5b86a7",
   "metadata": {},
   "outputs": [],
   "source": [
    "from PIL import Image\n",
    "import colorsys\n",
    "import math\n",
    "import os\n",
    "import numpy as np\n",
    "import matplotlib.pyplot as plt"
   ]
  },
  {
   "cell_type": "code",
   "execution_count": 137,
   "id": "1019bbc4",
   "metadata": {},
   "outputs": [],
   "source": [
    "# https://medium.com/swlh/visualizing-the-mandelbrot-set-using-python-50-lines-f6aa5a05cf0f\n",
    "class mendelSim():\n",
    "    def __init__(self, draw = True, niceColors = True):\n",
    "        self.draw = draw\n",
    "        self.niceColors = niceColors\n",
    "    \n",
    "    def run_sim(self, num_points = 30000, precision = 200):\n",
    "        if self.draw: \n",
    "            # draw mandelbrot image\n",
    "            img = Image.new('RGB', (width, height), color = 'white')\n",
    "            pixels = img.load()\n",
    "\n",
    "            for row in range(height):\n",
    "                for col in range(width):\n",
    "                    x = minX + col * xRange / width\n",
    "                    y = maxY - row * yRange / height\n",
    "                    oldX = x\n",
    "                    oldY = y\n",
    "                    for i in range(precision + 1):\n",
    "                        a = x*x - y*y #real component of z^2\n",
    "                        b = 2 * x * y #imaginary component of z^2\n",
    "                        x = a + oldX #real component of new z\n",
    "                        y = b + oldY #imaginary component of new z\n",
    "                        if x*x + y*y > 4:\n",
    "                            break\n",
    "                    if i < precision:\n",
    "                        rgb = (0,0,0)\n",
    "                        if self.niceColors:\n",
    "                            distance = (i + 1) / (precision + 1)\n",
    "                            rgb = self.powerColor(distance, 0.2, 0.27, 1.0)\n",
    "                        pixels[col,row] = rgb\n",
    "                    index = row * width + col + 1\n",
    "                    #print(\"{} / {}, {}%\".format(index, width * height, round(index / width / height * 100 * 10) / 10))\n",
    "\n",
    "        # run monte carlo simulation\n",
    "        inCount = 0\n",
    "        coordinates = self.getCoordinates(num_points)\n",
    "        for c in range(num_points):\n",
    "            x = minX + coordinates[0][c] * xRange / width\n",
    "            y = maxY - coordinates[1][c] * yRange / height\n",
    "            oldX = x\n",
    "            oldY = y\n",
    "            for i in range(precision + 1):\n",
    "                a = x*x - y*y #real component of z^2\n",
    "                b = 2 * x * y #imaginary component of z^2\n",
    "                x = a + oldX #real component of new z\n",
    "                y = b + oldY #imaginary component of new z\n",
    "                if x*x + y*y > 4:\n",
    "                    break\n",
    "            if i == precision:\n",
    "                inCount += 1\n",
    "            if self.draw: \n",
    "                rgb = self.redBlue(i, precision, 0.2, 0.27, 1.0)\n",
    "                pixels[coordinates[0][c],coordinates[1][c]] = rgb\n",
    "\n",
    "\n",
    "        if self.draw: \n",
    "            img.save('output.png')\n",
    "            os.system('open output.png')\n",
    "\n",
    "\n",
    "        areaPicture = xRange * yRange\n",
    "        percentageMendel = inCount/num_points\n",
    "\n",
    "        areaMendel = areaPicture * percentageMendel\n",
    "\n",
    "        return areaMendel\n",
    "    \n",
    "\n",
    "    def getCoordinates(self, num_points):\n",
    "        x = []\n",
    "        y = []\n",
    "        for i in range(num_points):\n",
    "            x.append(np.random.random())\n",
    "            y.append(np.random.random())\n",
    "        return ([i*width for i in x], [i*height for i in y])\n",
    "    \n",
    "    def logColor(self, distance, base, const, scale):\n",
    "        color = -1 * math.log(distance, base)\n",
    "        rgb = colorsys.hsv_to_rgb(const + scale * color,0.8,0.9)\n",
    "        return tuple(round(i * 255) for i in rgb)\n",
    "\n",
    "    def powerColor(self, distance, exp, const, scale):\n",
    "        color = distance**exp\n",
    "        rgb = colorsys.hsv_to_rgb(const + scale * color,1 - 0.6 * color,0.9)\n",
    "        return tuple(round(i * 255) for i in rgb)\n",
    "\n",
    "    def redBlue(self, distance, precision, exp, const, scale):\n",
    "        if distance == precision:\n",
    "            rgb = (0,255,0)\n",
    "        else:\n",
    "            rgb = (255,0,0)\n",
    "        return rgb"
   ]
  },
  {
   "cell_type": "code",
   "execution_count": 86,
   "id": "f68eea07",
   "metadata": {},
   "outputs": [],
   "source": [
    "#frame parameters\n",
    "width = 1000 #pixels\n",
    "x = -0.65\n",
    "y = 0\n",
    "xRange = 3.4\n",
    "aspectRatio = 4/3 \n",
    "\n",
    "height = round(width / aspectRatio)\n",
    "yRange = xRange / aspectRatio\n",
    "minX = x - xRange / 2\n",
    "maxX = x + xRange / 2\n",
    "minY = y - yRange / 2\n",
    "maxY = y + yRange / 2"
   ]
  },
  {
   "cell_type": "code",
   "execution_count": 138,
   "id": "1896e481",
   "metadata": {},
   "outputs": [
    {
     "data": {
      "text/plain": [
       "1.527365"
      ]
     },
     "execution_count": 138,
     "metadata": {},
     "output_type": "execute_result"
    }
   ],
   "source": [
    "# plot a pretty picture in the current directory called \"output.png\"\n",
    "simulator = mendelSim()\n",
    "simulator.run_sim(precision = 500, num_points=1000000)"
   ]
  },
  {
   "cell_type": "code",
   "execution_count": null,
   "id": "2716242e",
   "metadata": {},
   "outputs": [],
   "source": [
    "# parallelize to speed up\n",
    "from joblib import Parallel, delayed\n",
    "from tqdm import notebook\n",
    "\n",
    "def monteCarlo(precision, num_points):\n",
    "    # no plot simulator\n",
    "    simulator = mendelSim(False, False)\n",
    "    return simulator.run_sim(num_points=num_points, precision=precision)"
   ]
  },
  {
   "cell_type": "code",
   "execution_count": 172,
   "id": "36c05d8d",
   "metadata": {},
   "outputs": [
    {
     "data": {
      "application/vnd.jupyter.widget-view+json": {
       "model_id": "1adca393d4d14a06bf5a67110562c3ef",
       "version_major": 2,
       "version_minor": 0
      },
      "text/plain": [
       "  0%|          | 0/1000 [00:00<?, ?it/s]"
      ]
     },
     "metadata": {},
     "output_type": "display_data"
    }
   ],
   "source": [
    "# try to get a good estimate of the influence of num_points (s) and precision(i)\n",
    "# alter amount of jobs to fit your system\n",
    "# results for precision\n",
    "# shuffle the input to enhance time estimate\n",
    "inputPrecision = np.arange(1000)\n",
    "np.random.shuffle(inputPrecision)\n",
    "resultsPrecision = Parallel(n_jobs=8)(delayed(monteCarlo)(precision = i, num_points = 30000) for i in notebook.tqdm(inputPrecision))"
   ]
  },
  {
   "cell_type": "code",
   "execution_count": null,
   "id": "f369e6be",
   "metadata": {},
   "outputs": [
    {
     "data": {
      "application/vnd.jupyter.widget-view+json": {
       "model_id": "9308c5449b8e40c1b26729fae501b5ce",
       "version_major": 2,
       "version_minor": 0
      },
      "text/plain": [
       "  0%|          | 0/60000 [00:00<?, ?it/s]"
      ]
     },
     "metadata": {},
     "output_type": "display_data"
    }
   ],
   "source": [
    "# results for number of points\n",
    "inputPoints = np.arange(60000)\n",
    "np.random.shuffle(inputPoints)\n",
    "resultsPoints = Parallel(n_jobs=8)(delayed(monteCarlo)(precision = 100, num_points = i+1) for i in notebook.tqdm(inputPoints))"
   ]
  },
  {
   "cell_type": "code",
   "execution_count": 201,
   "id": "7ac49e8e",
   "metadata": {},
   "outputs": [
    {
     "ename": "ValueError",
     "evalue": "operands could not be broadcast together with shapes (60000,) (0,) ",
     "output_type": "error",
     "traceback": [
      "\u001b[1;31m---------------------------------------------------------------------------\u001b[0m",
      "\u001b[1;31mValueError\u001b[0m                                Traceback (most recent call last)",
      "\u001b[1;32m<ipython-input-201-17e8767e93b8>\u001b[0m in \u001b[0;36m<module>\u001b[1;34m\u001b[0m\n\u001b[0;32m      8\u001b[0m \u001b[1;33m\u001b[0m\u001b[0m\n\u001b[0;32m      9\u001b[0m \u001b[0marrPoints\u001b[0m \u001b[1;33m=\u001b[0m \u001b[0mnp\u001b[0m\u001b[1;33m.\u001b[0m\u001b[0marray\u001b[0m\u001b[1;33m(\u001b[0m\u001b[0mresultsPoints\u001b[0m\u001b[1;33m)\u001b[0m\u001b[1;33m\u001b[0m\u001b[1;33m\u001b[0m\u001b[0m\n\u001b[1;32m---> 10\u001b[1;33m \u001b[0merrorPoints\u001b[0m \u001b[1;33m=\u001b[0m \u001b[0mabs\u001b[0m\u001b[1;33m(\u001b[0m\u001b[0marrPoints\u001b[0m \u001b[1;33m-\u001b[0m \u001b[0marrPoints\u001b[0m\u001b[1;33m[\u001b[0m\u001b[0mnp\u001b[0m\u001b[1;33m.\u001b[0m\u001b[0mwhere\u001b[0m\u001b[1;33m(\u001b[0m\u001b[0minputPoints\u001b[0m \u001b[1;33m==\u001b[0m \u001b[1;36m60000\u001b[0m\u001b[1;33m)\u001b[0m\u001b[1;33m]\u001b[0m\u001b[1;33m)\u001b[0m\u001b[1;33m\u001b[0m\u001b[1;33m\u001b[0m\u001b[0m\n\u001b[0m\u001b[0;32m     11\u001b[0m \u001b[0mpointsResult\u001b[0m \u001b[1;33m=\u001b[0m \u001b[0mnp\u001b[0m\u001b[1;33m.\u001b[0m\u001b[0marray\u001b[0m\u001b[1;33m(\u001b[0m\u001b[1;33m(\u001b[0m\u001b[0minputPoints\u001b[0m\u001b[1;33m,\u001b[0m \u001b[0marrPoints\u001b[0m\u001b[1;33m,\u001b[0m \u001b[0merrorPoints\u001b[0m\u001b[1;33m)\u001b[0m\u001b[1;33m)\u001b[0m\u001b[1;33m\u001b[0m\u001b[1;33m\u001b[0m\u001b[0m\n",
      "\u001b[1;31mValueError\u001b[0m: operands could not be broadcast together with shapes (60000,) (0,) "
     ]
    }
   ],
   "source": [
    "# investigate the convergence of the two parameters\n",
    "# convert to np array to enhance speed\n",
    "\n",
    "arrPrecision = np.array(resultsPrecision)\n",
    "errorPrecision = abs(arrPrecision - arrPrecision[np.where(inputPrecision == 999)][0])\n",
    "precisionResult = np.array((inputPrecision, arrPrecision, errorPrecision))\n",
    "\n",
    "\n",
    "arrPoints = np.array(resultsPoints)\n",
    "errorPoints = abs(arrPoints - arrPoints[np.where(inputPoints == 60000)])\n",
    "pointsResult = np.array((inputPoints, arrPoints, errorPoints))\n"
   ]
  },
  {
   "cell_type": "code",
   "execution_count": 199,
   "id": "9c5bb9e3",
   "metadata": {},
   "outputs": [
    {
     "data": {
      "text/plain": [
       "<matplotlib.collections.PathCollection at 0x1ba223bf580>"
      ]
     },
     "execution_count": 199,
     "metadata": {},
     "output_type": "execute_result"
    },
    {
     "data": {
      "image/png": "[encoded data removed]",
      "text/plain": [
       "<Figure size 432x288 with 1 Axes>"
      ]
     },
     "metadata": {
      "needs_background": "light"
     },
     "output_type": "display_data"
    }
   ],
   "source": [
    "plt.scatter(precisionResult[0], precisionResult[1])\n",
    "plt.ylabel(\"Estimated Area\")\n",
    "plt.xlabel(\"Number of loops\")\n",
    "plt.title(f\"Convergence of the estimated area. Number of points sampled was 30000.\\n Final estmiated area size was {arrPrecision[-1]}\")\n",
    "plt.savefig(\"precisionArea.jpg\")"
   ]
  },
  {
   "cell_type": "code",
   "execution_count": 200,
   "id": "19c27a4c",
   "metadata": {},
   "outputs": [
    {
     "data": {
      "text/plain": [
       "<matplotlib.collections.PathCollection at 0x1ba22487640>"
      ]
     },
     "execution_count": 200,
     "metadata": {},
     "output_type": "execute_result"
    },
    {
     "data": {
      "image/png": "[encoded data removed]",
      "text/plain": [
       "<Figure size 432x288 with 1 Axes>"
      ]
     },
     "metadata": {
      "needs_background": "light"
     },
     "output_type": "display_data"
    }
   ],
   "source": [
    "plt.scatter(precisionResult[0], precisionResult[2])\n",
    "plt.ylabel(\"Error\")\n",
    "plt.xlabel(\"Number of loops\")\n",
    "plt.title(f\"Convergence of the number of iterations. Number of points sampled was 30000.\\n Final estmiated area size was {arrPrecision[-1]}\")\n",
    "plt.savefig(\"precisionConvergence.jpg\")"
   ]
  },
  {
   "cell_type": "code",
   "execution_count": 186,
   "id": "5b97f578",
   "metadata": {},
   "outputs": [
    {
     "data": {
      "image/png": "[encoded data removed]",
      "text/plain": [
       "<Figure size 432x288 with 1 Axes>"
      ]
     },
     "metadata": {
      "needs_background": "light"
     },
     "output_type": "display_data"
    }
   ],
   "source": [
    "plt.scatter(pointResult[0], pointResult[1])\n",
    "plt.ylabel(\"Estimated Area\")\n",
    "plt.xlabel(\"Number of points\")\n",
    "plt.title(f\"Convergence of the estimated area. Number of iterations was 100.\\n Final estmiated area size was {arrPoints[-1]}\")\n",
    "plt.savefig(\"pointsArea.jpg\")"
   ]
  },
  {
   "cell_type": "code",
   "execution_count": null,
   "id": "17dfb08b",
   "metadata": {},
   "outputs": [],
   "source": [
    "plt.scatter(pointResult[0], pointResult[2])\n",
    "plt.ylabel(\"Estimated Area\")\n",
    "plt.xlabel(\"Number of points\")\n",
    "plt.title(f\"Convergence of the error for the number of points. Number of iterations was 100.\\n Final estmiated area size was {arrPoints[-1]}\")\n",
    "plt.savefig(\"pointsArea.jpg\")"
   ]
  }
 ],
 "metadata": {
  "kernelspec": {
   "display_name": "Python 3",
   "language": "python",
   "name": "python3"
  },
  "language_info": {
   "codemirror_mode": {
    "name": "ipython",
    "version": 3
   },
   "file_extension": ".py",
   "mimetype": "text/x-python",
   "name": "python",
   "nbconvert_exporter": "python",
   "pygments_lexer": "ipython3",
   "version": "3.9.2"
  }
 },
 "nbformat": 4,
 "nbformat_minor": 5
}

{
 "cells": [
  {
   "cell_type": "code",
   "execution_count": 1,
   "id": "fa5b86a7",
   "metadata": {},
   "outputs": [],
   "source": [
    "from PIL import Image\n",
    "import colorsys\n",
    "import math\n",
    "import os\n",
    "import numpy as np\n",
    "import matplotlib.pyplot as plt"
   ]
  },
  {
   "cell_type": "code",
   "execution_count": 29,
   "id": "7dd0b670",
   "metadata": {},
   "outputs": [],
   "source": [
    "#frame parameters\n",
    "width = 1000 #pixels\n",
    "x = -0.65\n",
    "y = 0\n",
    "xRange = 3.4\n",
    "aspectRatio = 4/3 \n",
    "\n",
    "precision = 2\n",
    "\n",
    "height = round(width / aspectRatio)\n",
    "yRange = xRange / aspectRatio\n",
    "minX = x - xRange / 2\n",
    "maxX = x + xRange / 2\n",
    "minY = y - yRange / 2\n",
    "maxY = y + yRange / 2"
   ]
  },
  {
   "cell_type": "code",
   "execution_count": 34,
   "id": "3b6fdae9",
   "metadata": {},
   "outputs": [],
   "source": [
    "# monte carlo parameters\n",
    "x=[]\n",
    "y=[]\n",
    "num_points=30000\n",
    "for i in range(num_points):\n",
    "    x.append(np.random.random())\n",
    "    y.append(np.random.random())\n",
    "    \n",
    "coordinates = ([i*width for i in x], [i*height for i in y])"
   ]
  },
  {
   "cell_type": "code",
   "execution_count": 36,
   "id": "d1732dd9",
   "metadata": {},
   "outputs": [
    {
     "data": {
      "text/plain": [
       "(array([2998., 2997., 2994., 2971., 3117., 2890., 3070., 2993., 2975.,\n",
       "        2995.]),\n",
       " array([4.38373002e-03, 7.50031329e+01, 1.50001882e+02, 2.25000631e+02,\n",
       "        2.99999381e+02, 3.74998130e+02, 4.49996879e+02, 5.24995628e+02,\n",
       "        5.99994377e+02, 6.74993126e+02, 7.49991876e+02]),\n",
       " <BarContainer object of 10 artists>)"
      ]
     },
     "execution_count": 36,
     "metadata": {},
     "output_type": "execute_result"
    },
    {
     "data": {
      "image/png": "[encoded data removed]",
      "text/plain": [
       "<Figure size 432x288 with 1 Axes>"
      ]
     },
     "metadata": {
      "needs_background": "light"
     },
     "output_type": "display_data"
    }
   ],
   "source": [
    "plt.hist(coordinates[1])"
   ]
  },
  {
   "cell_type": "code",
   "execution_count": 37,
   "id": "9e6b3b1f",
   "metadata": {},
   "outputs": [],
   "source": [
    "def logColor(distance, base, const, scale):\n",
    "    color = -1 * math.log(distance, base)\n",
    "    rgb = colorsys.hsv_to_rgb(const + scale * color,0.8,0.9)\n",
    "    return tuple(round(i * 255) for i in rgb)\n",
    "\n",
    "def powerColor(distance, exp, const, scale):\n",
    "    color = distance**exp\n",
    "    rgb = colorsys.hsv_to_rgb(const + scale * color,1 - 0.6 * color,0.9)\n",
    "    return tuple(round(i * 255) for i in rgb)\n",
    "\n",
    "def redBlue(distance, exp, const, scale):\n",
    "    if distance == precision:\n",
    "        rgb = (0,255,0)\n",
    "    else:\n",
    "        rgb = (255,0,0)\n",
    "    return rgb"
   ]
  },
  {
   "cell_type": "code",
   "execution_count": 39,
   "id": "1019bbc4",
   "metadata": {},
   "outputs": [
    {
     "data": {
      "text/plain": [
       "1"
      ]
     },
     "execution_count": 39,
     "metadata": {},
     "output_type": "execute_result"
    }
   ],
   "source": [
    "img = Image.new('RGB', (width, height), color = 'white')\n",
    "pixels = img.load()\n",
    "\n",
    "\n",
    "\n",
    "\n",
    "# draw mandelbrot image\n",
    "for row in range(height):\n",
    "    for col in range(width):\n",
    "        x = minX + col * xRange / width\n",
    "        y = maxY - row * yRange / height\n",
    "        oldX = x\n",
    "        oldY = y\n",
    "        for i in range(precision + 1):\n",
    "            a = x*x - y*y #real component of z^2\n",
    "            b = 2 * x * y #imaginary component of z^2\n",
    "            x = a + oldX #real component of new z\n",
    "            y = b + oldY #imaginary component of new z\n",
    "            if x*x + y*y > 4:\n",
    "                break\n",
    "        if i < precision:\n",
    "            distance = (i + 1) / (precision + 1)\n",
    "            rgb = (0,0,0)\n",
    "            #rgb = powerColor(distance, 0.2, 0.27, 1.0)\n",
    "            pixels[col,row] = rgb\n",
    "        index = row * width + col + 1\n",
    "        #print(\"{} / {}, {}%\".format(index, width * height, round(index / width / height * 100 * 10) / 10))\n",
    "\n",
    "# draw monte carlo points\n",
    "for c in range(num_points):\n",
    "    x = minX + coordinates[0][c] * xRange / width\n",
    "    y = maxY - coordinates[1][c] * yRange / height\n",
    "    oldX = x\n",
    "    oldY = y\n",
    "    for i in range(precision + 1):\n",
    "        a = x*x - y*y #real component of z^2\n",
    "        b = 2 * x * y #imaginary component of z^2\n",
    "        x = a + oldX #real component of new z\n",
    "        y = b + oldY #imaginary component of new z\n",
    "        if x*x + y*y > 4:\n",
    "            break\n",
    "\n",
    "    rgb = redBlue(i, 0.2, 0.27, 1.0)\n",
    "    pixels[coordinates[0][c],coordinates[1][c]] = rgb\n",
    "            \n",
    "            \n",
    "            \n",
    "img.save('output2.png')\n",
    "os.system('open output.png')"
   ]
  },
  {
   "cell_type": "code",
   "execution_count": 71,
   "id": "36c05d8d",
   "metadata": {},
   "outputs": [
    {
     "ename": "IndexError",
     "evalue": "tuple index out of range",
     "output_type": "error",
     "traceback": [
      "\u001b[1;31m---------------------------------------------------------------------------\u001b[0m",
      "\u001b[1;31mIndexError\u001b[0m                                Traceback (most recent call last)",
      "\u001b[1;32m<ipython-input-71-3e4413028c2c>\u001b[0m in \u001b[0;36m<module>\u001b[1;34m\u001b[0m\n\u001b[0;32m      1\u001b[0m \u001b[0mtuples\u001b[0m \u001b[1;33m=\u001b[0m \u001b[1;33m(\u001b[0m\u001b[1;33m[\u001b[0m\u001b[1;36m1\u001b[0m\u001b[1;33m,\u001b[0m\u001b[1;36m3\u001b[0m\u001b[1;33m,\u001b[0m\u001b[1;36m4\u001b[0m\u001b[1;33m]\u001b[0m\u001b[1;33m,\u001b[0m \u001b[1;33m[\u001b[0m\u001b[1;36m2\u001b[0m\u001b[1;33m,\u001b[0m\u001b[1;36m3\u001b[0m\u001b[1;33m,\u001b[0m\u001b[1;36m4\u001b[0m\u001b[1;33m]\u001b[0m\u001b[1;33m)\u001b[0m\u001b[1;33m\u001b[0m\u001b[1;33m\u001b[0m\u001b[0m\n\u001b[1;32m----> 2\u001b[1;33m \u001b[0mtuples\u001b[0m\u001b[1;33m[\u001b[0m\u001b[1;36m2\u001b[0m\u001b[1;33m]\u001b[0m\u001b[1;33m[\u001b[0m\u001b[1;36m2\u001b[0m\u001b[1;33m]\u001b[0m\u001b[1;33m\u001b[0m\u001b[1;33m\u001b[0m\u001b[0m\n\u001b[0m",
      "\u001b[1;31mIndexError\u001b[0m: tuple index out of range"
     ]
    }
   ],
   "source": []
  }
 ],
 "metadata": {
  "kernelspec": {
   "display_name": "Python 3",
   "language": "python",
   "name": "python3"
  },
  "language_info": {
   "codemirror_mode": {
    "name": "ipython",
    "version": 3
   },
   "file_extension": ".py",
   "mimetype": "text/x-python",
   "name": "python",
   "nbconvert_exporter": "python",
   "pygments_lexer": "ipython3",
   "version": "3.9.2"
  }
 },
 "nbformat": 4,
 "nbformat_minor": 5
}

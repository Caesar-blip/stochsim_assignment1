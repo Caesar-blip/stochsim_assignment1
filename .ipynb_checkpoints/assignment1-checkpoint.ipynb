{
 "cells": [
  {
   "cell_type": "code",
   "execution_count": 1,
   "id": "fa5b86a7",
   "metadata": {},
   "outputs": [],
   "source": [
    "from PIL import Image\n",
    "import colorsys\n",
    "import math\n",
    "import os\n",
    "import numpy as np\n",
    "import matplotlib.pyplot as plt"
   ]
  },
  {
   "cell_type": "code",
   "execution_count": 137,
   "id": "1019bbc4",
   "metadata": {},
   "outputs": [],
   "source": [
    "class mendelSim():\n",
    "    def __init__(self, draw = True, niceColors = True):\n",
    "        self.draw = draw\n",
    "        self.niceColors = niceColors\n",
    "    \n",
    "    def run_sim(self, num_points = 30000, precision = 200):\n",
    "        if self.draw: \n",
    "            # draw mandelbrot image\n",
    "            img = Image.new('RGB', (width, height), color = 'white')\n",
    "            pixels = img.load()\n",
    "\n",
    "            for row in range(height):\n",
    "                for col in range(width):\n",
    "                    x = minX + col * xRange / width\n",
    "                    y = maxY - row * yRange / height\n",
    "                    oldX = x\n",
    "                    oldY = y\n",
    "                    for i in range(precision + 1):\n",
    "                        a = x*x - y*y #real component of z^2\n",
    "                        b = 2 * x * y #imaginary component of z^2\n",
    "                        x = a + oldX #real component of new z\n",
    "                        y = b + oldY #imaginary component of new z\n",
    "                        if x*x + y*y > 4:\n",
    "                            break\n",
    "                    if i < precision:\n",
    "                        rgb = (0,0,0)\n",
    "                        if self.niceColors:\n",
    "                            distance = (i + 1) / (precision + 1)\n",
    "                            rgb = self.powerColor(distance, 0.2, 0.27, 1.0)\n",
    "                        pixels[col,row] = rgb\n",
    "                    index = row * width + col + 1\n",
    "                    #print(\"{} / {}, {}%\".format(index, width * height, round(index / width / height * 100 * 10) / 10))\n",
    "\n",
    "        # run monte carlo simulation\n",
    "        inCount = 0\n",
    "        coordinates = self.getCoordinates(num_points)\n",
    "        for c in range(num_points):\n",
    "            x = minX + coordinates[0][c] * xRange / width\n",
    "            y = maxY - coordinates[1][c] * yRange / height\n",
    "            oldX = x\n",
    "            oldY = y\n",
    "            for i in range(precision + 1):\n",
    "                a = x*x - y*y #real component of z^2\n",
    "                b = 2 * x * y #imaginary component of z^2\n",
    "                x = a + oldX #real component of new z\n",
    "                y = b + oldY #imaginary component of new z\n",
    "                if x*x + y*y > 4:\n",
    "                    break\n",
    "            if i == precision:\n",
    "                inCount += 1\n",
    "            if self.draw: \n",
    "                rgb = self.redBlue(i, precision, 0.2, 0.27, 1.0)\n",
    "                pixels[coordinates[0][c],coordinates[1][c]] = rgb\n",
    "\n",
    "\n",
    "        if self.draw: \n",
    "            img.save('output.png')\n",
    "            os.system('open output.png')\n",
    "\n",
    "\n",
    "        areaPicture = xRange * yRange\n",
    "        percentageMendel = inCount/num_points\n",
    "\n",
    "        areaMendel = areaPicture * percentageMendel\n",
    "\n",
    "        return areaMendel\n",
    "    \n",
    "\n",
    "    def getCoordinates(self, num_points):\n",
    "        x = []\n",
    "        y = []\n",
    "        for i in range(num_points):\n",
    "            x.append(np.random.random())\n",
    "            y.append(np.random.random())\n",
    "        return ([i*width for i in x], [i*height for i in y])\n",
    "    \n",
    "    def logColor(self, distance, base, const, scale):\n",
    "        color = -1 * math.log(distance, base)\n",
    "        rgb = colorsys.hsv_to_rgb(const + scale * color,0.8,0.9)\n",
    "        return tuple(round(i * 255) for i in rgb)\n",
    "\n",
    "    def powerColor(self, distance, exp, const, scale):\n",
    "        color = distance**exp\n",
    "        rgb = colorsys.hsv_to_rgb(const + scale * color,1 - 0.6 * color,0.9)\n",
    "        return tuple(round(i * 255) for i in rgb)\n",
    "\n",
    "    def redBlue(self, distance, precision, exp, const, scale):\n",
    "        if distance == precision:\n",
    "            rgb = (0,255,0)\n",
    "        else:\n",
    "            rgb = (255,0,0)\n",
    "        return rgb"
   ]
  },
  {
   "cell_type": "code",
   "execution_count": 86,
   "id": "457466ad",
   "metadata": {},
   "outputs": [],
   "source": [
    "#frame parameters\n",
    "width = 1000 #pixels\n",
    "x = -0.65\n",
    "y = 0\n",
    "xRange = 3.4\n",
    "aspectRatio = 4/3 \n",
    "\n",
    "height = round(width / aspectRatio)\n",
    "yRange = xRange / aspectRatio\n",
    "minX = x - xRange / 2\n",
    "maxX = x + xRange / 2\n",
    "minY = y - yRange / 2\n",
    "maxY = y + yRange / 2"
   ]
  },
  {
   "cell_type": "code",
   "execution_count": 138,
   "id": "67e4f952",
   "metadata": {},
   "outputs": [
    {
     "data": {
      "text/plain": [
       "1.527365"
      ]
     },
     "execution_count": 138,
     "metadata": {},
     "output_type": "execute_result"
    }
   ],
   "source": [
    "# plot a pretty picture in the current directory called \"output.png\"\n",
    "simulator = mendelSim()\n",
    "simulator.run_sim()"
   ]
  },
  {
   "cell_type": "code",
   "execution_count": null,
   "id": "1a1783ff",
   "metadata": {},
   "outputs": [],
   "source": [
    "# parallelize to speed up\n",
    "from joblib import Parallel, delayed\n",
    "\n",
    "def monteCarlo(precision, num_points):\n",
    "    # no plot simulator\n",
    "    simulator = mendelSim(False, False)\n",
    "    return simulator.run_sim(num_points=num_points, precision=precision)"
   ]
  },
  {
   "cell_type": "code",
   "execution_count": 101,
   "id": "36c05d8d",
   "metadata": {},
   "outputs": [],
   "source": [
    "# try to get a good estimate of the influence of num_points (s) and precision(i)\n",
    "# alter amount of jobs to fit your system\n",
    "# results for precision\n",
    "resultsPrecision = Parallel(n_jobs=6)(delayed(monteCarlo)(precision = i, num_points = 30000) for i in range(1000))"
   ]
  },
  {
   "cell_type": "code",
   "execution_count": 103,
   "id": "9093a4ed",
   "metadata": {},
   "outputs": [],
   "source": [
    "# results for number of points\n",
    "resultsPoints = Parallel(n_jobs=6)(delayed(monteCarlo)(precision = 100, num_points = i+1) for i in range(60000))"
   ]
  },
  {
   "cell_type": "code",
   "execution_count": 121,
   "id": "8340f3fa",
   "metadata": {},
   "outputs": [],
   "source": [
    "# investigate the convergence of the two parameters\n",
    "# convert to np array to enhance speed\n",
    "arrPrecision = np.array(resultsPrecision)\n",
    "errorPrecision = abs(arrPrecision - arrPrecision[-1])\n",
    "\n",
    "arrPoints = np.array(resultsPoints)\n",
    "errorPoints = abs(arrPoints - arrPoints[-1])"
   ]
  },
  {
   "cell_type": "code",
   "execution_count": 132,
   "id": "53f85fd0",
   "metadata": {},
   "outputs": [
    {
     "data": {
      "image/png": "[encoded data removed]",
      "text/plain": [
       "<Figure size 432x288 with 1 Axes>"
      ]
     },
     "metadata": {
      "needs_background": "light"
     },
     "output_type": "display_data"
    }
   ],
   "source": [
    "plt.scatter(range(60000),errorPoints)\n",
    "plt.ylabel(\"Error\")\n",
    "plt.xlabel(\"Number of points\")\n",
    "plt.title(f\"Convergence of the number of points. Number of iterations was 100.\\n Final estmiated area size was {arrPoints[-1]}\")\n",
    "plt.savefig(\"pointsConvergence.jpg\")"
   ]
  },
  {
   "cell_type": "code",
   "execution_count": 136,
   "id": "e500de33",
   "metadata": {},
   "outputs": [
    {
     "data": {
      "image/png": "[encoded data removed]",
      "text/plain": [
       "<Figure size 432x288 with 1 Axes>"
      ]
     },
     "metadata": {
      "needs_background": "light"
     },
     "output_type": "display_data"
    }
   ],
   "source": [
    "plt.scatter(range(1000),errorPrecision)\n",
    "plt.ylabel(\"Error\")\n",
    "plt.xlabel(\"Number of loops\")\n",
    "plt.title(f\"Convergence of the number of iterations. Number of points sampled was 30000.\\n Final estmiated area size was {arrPrecision[-1]}\")\n",
    "plt.savefig(\"precisionConvergence.jpg\")"
   ]
  }
 ],
 "metadata": {
  "kernelspec": {
   "display_name": "Python 3",
   "language": "python",
   "name": "python3"
  },
  "language_info": {
   "codemirror_mode": {
    "name": "ipython",
    "version": 3
   },
   "file_extension": ".py",
   "mimetype": "text/x-python",
   "name": "python",
   "nbconvert_exporter": "python",
   "pygments_lexer": "ipython3",
   "version": "3.9.2"
  }
 },
 "nbformat": 4,
 "nbformat_minor": 5
}

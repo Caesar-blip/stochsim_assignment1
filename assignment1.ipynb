{
 "cells": [
  {
   "cell_type": "code",
   "execution_count": 15,
   "id": "fa5b86a7",
   "metadata": {},
   "outputs": [],
   "source": [
    "from helpers import *"
   ]
  },
  {
   "cell_type": "code",
   "execution_count": 32,
   "id": "50685403",
   "metadata": {},
   "outputs": [],
   "source": [
    "# sort the results normally\n",
    "def getResults(result):\n",
    "    inpSort = result\n",
    "    # sort the results\n",
    "    results = []\n",
    "    for entry in range(len(inpSort[0])):\n",
    "        results.append((inpSort[0][entry], inpSort[1][entry]))\n",
    "    \n",
    "    def getKey(item):\n",
    "        return item[0]\n",
    "\n",
    "    resultsSorted = sorted(results, key=getKey)\n",
    "    resultsArray = np.zeros((2, len(inpSort[0])), dtype=float)\n",
    "    for i in range(len(inpSort[0])):\n",
    "        resultsArray[0][i] = float(resultsSorted[i][0])\n",
    "        resultsArray[1][i] = float(resultsSorted[i][1])\n",
    "    \n",
    "    return resultsArray"
   ]
  },
  {
   "cell_type": "code",
   "execution_count": 80,
   "id": "aa6c7f02",
   "metadata": {},
   "outputs": [],
   "source": [
    "# create a bar plot with a specified number of bins\n",
    "def createBars(bars, result):\n",
    "    resultsArray = getResults(result)\n",
    "\n",
    "    bars = 10\n",
    "    means = []\n",
    "    stds = []\n",
    "    currIndex = 0\n",
    "    for bar in range(bars):\n",
    "        nextIndex = int(currIndex + len(resultsArray[1])/bars)\n",
    "        means.append(np.mean(resultsArray[1][currIndex:nextIndex]))\n",
    "        stds.append(np.std(resultsArray[1][currIndex:nextIndex]))\n",
    "        currIndex = nextIndex\n",
    "\n",
    "\n",
    "    fig, ax = plt.subplots()\n",
    "    ax.bar(np.arange(bars), means, yerr=stds, align='center', alpha=0.5, ecolor='black', capsize=10)"
   ]
  },
  {
   "cell_type": "code",
   "execution_count": 2,
   "id": "97b4d0d0",
   "metadata": {},
   "outputs": [
    {
     "data": {
      "text/plain": [
       "1.4927138999999998"
      ]
     },
     "execution_count": 2,
     "metadata": {},
     "output_type": "execute_result"
    }
   ],
   "source": [
    "# plot a pretty picture in the current directory called \"output.png\"\n",
    "simulator = mendelSim(precision = 1000, num_points=100000)\n",
    "simulator.run_sim()"
   ]
  },
  {
   "cell_type": "code",
   "execution_count": 3,
   "id": "b0134393",
   "metadata": {},
   "outputs": [],
   "source": [
    "# parallelize to speed up\n",
    "def monteCarlo(precision, num_points, simStrat):\n",
    "    # no plot simulator\n",
    "    simulator = mendelSim(precision=precision, num_points=num_points, simStrat = simStrat, draw=False, niceColors=False)\n",
    "    return simulator.run_sim()"
   ]
  },
  {
   "cell_type": "code",
   "execution_count": 4,
   "id": "36c05d8d",
   "metadata": {},
   "outputs": [
    {
     "data": {
      "application/vnd.jupyter.widget-view+json": {
       "model_id": "e1d58b2e1b034515917766610d566021",
       "version_major": 2,
       "version_minor": 0
      },
      "text/plain": [
       "  0%|          | 0/1000 [00:00<?, ?it/s]"
      ]
     },
     "metadata": {},
     "output_type": "display_data"
    }
   ],
   "source": [
    "# try to get a good estimate of the influence of num_points (s) and precision(i)\n",
    "# alter amount of jobs to fit your system\n",
    "# results for precision\n",
    "# shuffle the input to enhance time estimate\n",
    "inputPrecisionSize = 1000\n",
    "inputPrecision = np.arange(inputPrecisionSize)\n",
    "np.random.shuffle(inputPrecision)\n",
    "resultsPrecision = Parallel(n_jobs=8)(delayed(monteCarlo)(simStrat = \"random\",precision = i, num_points = 30000)\n",
    "                                      for i in notebook.tqdm(inputPrecision))"
   ]
  },
  {
   "cell_type": "code",
   "execution_count": 5,
   "id": "764a2f1c",
   "metadata": {},
   "outputs": [
    {
     "data": {
      "application/vnd.jupyter.widget-view+json": {
       "model_id": "55147dd496724fbf9cb034b079d69c30",
       "version_major": 2,
       "version_minor": 0
      },
      "text/plain": [
       "  0%|          | 0/10000 [00:00<?, ?it/s]"
      ]
     },
     "metadata": {},
     "output_type": "display_data"
    }
   ],
   "source": [
    "# results for number of points\n",
    "inputPointSize = 10000\n",
    "inputPoints = np.arange(inputPointSize)\n",
    "np.random.shuffle(inputPoints)\n",
    "resultsPoints = Parallel(n_jobs=8)(delayed(monteCarlo)(simStrat = \"random\",precision = 100, num_points = i+1)\n",
    "                                   for i in notebook.tqdm(inputPoints))"
   ]
  },
  {
   "cell_type": "code",
   "execution_count": 6,
   "id": "2abc8063",
   "metadata": {},
   "outputs": [],
   "source": [
    "# investigate the convergence of the two parameters\n",
    "# convert to np array to enhance speed\n",
    "\n",
    "arrPrecision = np.array(resultsPrecision)\n",
    "errorPrecision = abs(arrPrecision - arrPrecision[np.where(inputPrecision == inputPrecisionSize-1)][0])\n",
    "precisionResult = np.array((inputPrecision, arrPrecision, errorPrecision))\n",
    "\n",
    "\n",
    "arrPoints = np.array(resultsPoints)\n",
    "errorPoints = abs(arrPoints - arrPoints[np.where(inputPoints == inputPointSize-1)[0]])\n",
    "pointResult = np.array((inputPoints, arrPoints, errorPoints))\n"
   ]
  },
  {
   "cell_type": "code",
   "execution_count": 60,
   "id": "8154c398",
   "metadata": {},
   "outputs": [
    {
     "data": {
      "image/png": "[encoded data removed]",
      "text/plain": [
       "<Figure size 432x288 with 1 Axes>"
      ]
     },
     "metadata": {
      "needs_background": "light"
     },
     "output_type": "display_data"
    }
   ],
   "source": [
    "plt.scatter(precisionResult[0], precisionResult[1])\n",
    "plt.ylabel(\"Estimated Area\")\n",
    "plt.xlabel(\"Number of loops\")\n",
    "plt.title(f\"Convergence of the estimated area. Number of points sampled was 30000.\")\n",
    "plt.savefig(\"precisionArea.jpg\")"
   ]
  },
  {
   "cell_type": "code",
   "execution_count": 61,
   "id": "f3ecddae",
   "metadata": {},
   "outputs": [
    {
     "data": {
      "image/png": "[encoded data removed]",
      "text/plain": [
       "<Figure size 432x288 with 1 Axes>"
      ]
     },
     "metadata": {
      "needs_background": "light"
     },
     "output_type": "display_data"
    }
   ],
   "source": [
    "plt.scatter(precisionResult[0], precisionResult[2])\n",
    "plt.ylabel(\"Error\")\n",
    "plt.xlabel(\"Number of loops\")\n",
    "plt.title(f\"Convergence of the number of iterations. Number of points sampled was 30000.\")\n",
    "plt.savefig(\"precisionConvergence.jpg\")"
   ]
  },
  {
   "cell_type": "code",
   "execution_count": 59,
   "id": "6262b032",
   "metadata": {},
   "outputs": [
    {
     "data": {
      "image/png": "[encoded data removed]",
      "text/plain": [
       "<Figure size 432x288 with 1 Axes>"
      ]
     },
     "metadata": {
      "needs_background": "light"
     },
     "output_type": "display_data"
    }
   ],
   "source": [
    "createBars(10, precisionResult)"
   ]
  },
  {
   "cell_type": "code",
   "execution_count": 62,
   "id": "c29557d7",
   "metadata": {},
   "outputs": [
    {
     "data": {
      "image/png": "[encoded data removed]",
      "text/plain": [
       "<Figure size 432x288 with 1 Axes>"
      ]
     },
     "metadata": {
      "needs_background": "light"
     },
     "output_type": "display_data"
    }
   ],
   "source": [
    "plt.scatter(pointResult[0], pointResult[1])\n",
    "plt.ylabel(\"Estimated Area\")\n",
    "plt.xlabel(\"Number of points\")\n",
    "plt.title(f\"Convergence of the estimated area. Number of iterations was 100.\")\n",
    "plt.savefig(\"pointsArea.jpg\")"
   ]
  },
  {
   "cell_type": "code",
   "execution_count": 63,
   "id": "065a3c7b",
   "metadata": {},
   "outputs": [
    {
     "data": {
      "image/png": "[encoded data removed]",
      "text/plain": [
       "<Figure size 432x288 with 1 Axes>"
      ]
     },
     "metadata": {
      "needs_background": "light"
     },
     "output_type": "display_data"
    }
   ],
   "source": [
    "plt.scatter(pointResult[0], pointResult[2])\n",
    "plt.ylabel(\"Error\")\n",
    "plt.xlabel(\"Number of points\")\n",
    "plt.title(f\"Convergence of the error for the number of points. Number of iterations was 100.\")\n",
    "plt.savefig(\"pointsConvergence.jpg\")"
   ]
  },
  {
   "cell_type": "code",
   "execution_count": 64,
   "id": "24081d18",
   "metadata": {},
   "outputs": [
    {
     "data": {
      "image/png": "[encoded data removed]",
      "text/plain": [
       "<Figure size 432x288 with 1 Axes>"
      ]
     },
     "metadata": {
      "needs_background": "light"
     },
     "output_type": "display_data"
    }
   ],
   "source": [
    "createBars(10, pointResult)"
   ]
  },
  {
   "cell_type": "code",
   "execution_count": 65,
   "id": "9ae347da",
   "metadata": {},
   "outputs": [
    {
     "data": {
      "text/plain": [
       "1.4796799999999999"
      ]
     },
     "execution_count": 65,
     "metadata": {},
     "output_type": "execute_result"
    }
   ],
   "source": [
    "simulator = mendelSim(simStrat = \"latin\", width = 1000, aspectRatio = 1, precision = 100)\n",
    "simulator.run_sim()"
   ]
  },
  {
   "cell_type": "code",
   "execution_count": 66,
   "id": "93884c34",
   "metadata": {},
   "outputs": [],
   "source": [
    "def monteCarloLatin(precision, width):\n",
    "    simulator = mendelSim(simStrat = \"latin\", width = width, aspectRatio = 1, precision = precision, draw=False, niceColors=False)\n",
    "    return simulator.run_sim()\n"
   ]
  },
  {
   "cell_type": "code",
   "execution_count": 67,
   "id": "392e5d78",
   "metadata": {},
   "outputs": [
    {
     "data": {
      "application/vnd.jupyter.widget-view+json": {
       "model_id": "7a2d81dc7dfc48d2a8aa7791f8666b1b",
       "version_major": 2,
       "version_minor": 0
      },
      "text/plain": [
       "  0%|          | 0/1000 [00:00<?, ?it/s]"
      ]
     },
     "metadata": {},
     "output_type": "display_data"
    }
   ],
   "source": [
    "#test convergence of latin hypercube strategy. This works a little differently, because our input points are dependent on the \n",
    "# width of the picture\n",
    "\n",
    "inputPrecisionSize = 1000\n",
    "inputPrecision = np.arange(inputPrecisionSize)\n",
    "np.random.shuffle(inputPrecision)\n",
    "resultsPrecision = Parallel(n_jobs=8)(delayed(monteCarloLatin)(precision = i, width = 10000)\n",
    "                                      for i in notebook.tqdm(inputPrecision))\n",
    "\n",
    "arrPrecision = np.array(resultsPrecision)\n",
    "errorPrecision = abs(arrPrecision - arrPrecision[np.where(inputPrecision == inputPrecisionSize-1)][0])\n",
    "precisionResult = np.array((inputPrecision, arrPrecision, errorPrecision))"
   ]
  },
  {
   "cell_type": "code",
   "execution_count": 68,
   "id": "c133169c",
   "metadata": {},
   "outputs": [
    {
     "data": {
      "image/png": "[encoded data removed]",
      "text/plain": [
       "<Figure size 432x288 with 1 Axes>"
      ]
     },
     "metadata": {
      "needs_background": "light"
     },
     "output_type": "display_data"
    }
   ],
   "source": [
    "plt.scatter(precisionResult[0], precisionResult[1])\n",
    "plt.ylabel(\"Estimated Area\")\n",
    "plt.xlabel(\"Number of loops\")\n",
    "plt.title(f\"Convergence of the estimated area. Number of points sampled was 10000.\")\n",
    "plt.savefig(\"precisionAreaLatin.jpg\")"
   ]
  },
  {
   "cell_type": "code",
   "execution_count": 70,
   "id": "19ce607e",
   "metadata": {},
   "outputs": [
    {
     "data": {
      "image/png": "[encoded data removed]",
      "text/plain": [
       "<Figure size 432x288 with 1 Axes>"
      ]
     },
     "metadata": {
      "needs_background": "light"
     },
     "output_type": "display_data"
    }
   ],
   "source": [
    "createBars(10, precisionResult)"
   ]
  },
  {
   "cell_type": "code",
   "execution_count": 69,
   "id": "240e4d18",
   "metadata": {},
   "outputs": [
    {
     "data": {
      "application/vnd.jupyter.widget-view+json": {
       "model_id": "4f1d05e3a3b64f47b68d585f84a6f338",
       "version_major": 2,
       "version_minor": 0
      },
      "text/plain": [
       "  0%|          | 0/10000 [00:00<?, ?it/s]"
      ]
     },
     "metadata": {},
     "output_type": "display_data"
    }
   ],
   "source": [
    "inputPointSize = 10000\n",
    "inputPoint = np.arange(inputPointSize)\n",
    "np.random.shuffle(inputPoint)\n",
    "resultsPoint = Parallel(n_jobs=8)(delayed(monteCarloLatin)(precision = 100, width = i+1)\n",
    "                                      for i in notebook.tqdm(inputPoint))\n",
    "\n",
    "arrPoint = np.array(resultsPoint)\n",
    "errorPoint = abs(arrPoint - arrPoint[np.where(inputPoint == inputPointSize-1)][0])\n",
    "pointResult = np.array((inputPoint, arrPoint, errorPoint))"
   ]
  },
  {
   "cell_type": "code",
   "execution_count": 25,
   "id": "854dbe7a",
   "metadata": {},
   "outputs": [
    {
     "data": {
      "image/png": "[encoded data removed]",
      "text/plain": [
       "<Figure size 432x288 with 1 Axes>"
      ]
     },
     "metadata": {
      "needs_background": "light"
     },
     "output_type": "display_data"
    }
   ],
   "source": [
    "plt.scatter(pointResult[0], pointResult[1])\n",
    "plt.ylabel(\"Estimated Area\")\n",
    "plt.xlabel(\"Number of points\")\n",
    "plt.title(f\"Convergence of the estimated area. Number of iterations was 100.\")\n",
    "plt.savefig(\"pointsAreaLatin.jpg\")"
   ]
  },
  {
   "cell_type": "code",
   "execution_count": 71,
   "id": "dd154b7b",
   "metadata": {},
   "outputs": [
    {
     "data": {
      "image/png": "[encoded data removed]",
      "text/plain": [
       "<Figure size 432x288 with 1 Axes>"
      ]
     },
     "metadata": {
      "needs_background": "light"
     },
     "output_type": "display_data"
    }
   ],
   "source": [
    "createBars(10, pointResult)"
   ]
  },
  {
   "cell_type": "code",
   "execution_count": 75,
   "id": "049f7789",
   "metadata": {},
   "outputs": [
    {
     "data": {
      "text/plain": [
       "1.5533749999999997"
      ]
     },
     "execution_count": 75,
     "metadata": {},
     "output_type": "execute_result"
    }
   ],
   "source": [
    "simulator = mendelSim(simStrat = \"orthogonal\", width = 80**2, aspectRatio = 1, precision = 100)\n",
    "simulator.run_sim()"
   ]
  },
  {
   "cell_type": "code",
   "execution_count": 76,
   "id": "5995ad4d",
   "metadata": {},
   "outputs": [],
   "source": [
    "def monteCarloOrtho(precision, width):\n",
    "    simulator = mendelSim(simStrat = \"orthogonal\", width = width, aspectRatio = 1, precision = precision, draw=False, niceColors=False)\n",
    "    return simulator.run_sim()"
   ]
  },
  {
   "cell_type": "code",
   "execution_count": 77,
   "id": "46fd09fe",
   "metadata": {},
   "outputs": [
    {
     "data": {
      "application/vnd.jupyter.widget-view+json": {
       "model_id": "1fa8f4d1a8f9436cb75d38ad8f6421d8",
       "version_major": 2,
       "version_minor": 0
      },
      "text/plain": [
       "  0%|          | 0/500 [00:00<?, ?it/s]"
      ]
     },
     "metadata": {},
     "output_type": "display_data"
    }
   ],
   "source": [
    "#test convergence of orthogonal latin hypercube strategy. This works a little differently, \n",
    "# because our input points are dependent on the square of the width of the picture\n",
    "\n",
    "inputPrecisionSize = 500\n",
    "inputPrecision = np.arange(inputPrecisionSize)\n",
    "np.random.shuffle(inputPrecision)\n",
    "resultsPrecision = Parallel(n_jobs=8)(delayed(monteCarloOrtho)(precision = i, width = 35**2)\n",
    "                                      for i in notebook.tqdm(inputPrecision))\n",
    "\n",
    "arrPrecision = np.array(resultsPrecision)\n",
    "errorPrecision = abs(arrPrecision - arrPrecision[np.where(inputPrecision == inputPrecisionSize-1)][0])\n",
    "precisionResult = np.array((inputPrecision, arrPrecision, errorPrecision))"
   ]
  },
  {
   "cell_type": "code",
   "execution_count": 78,
   "id": "6a0b203b",
   "metadata": {
    "scrolled": true
   },
   "outputs": [
    {
     "data": {
      "image/png": "[encoded data removed]",
      "text/plain": [
       "<Figure size 432x288 with 1 Axes>"
      ]
     },
     "metadata": {
      "needs_background": "light"
     },
     "output_type": "display_data"
    }
   ],
   "source": [
    "plt.scatter(precisionResult[0], precisionResult[1])\n",
    "plt.ylabel(\"Estimated Area\")\n",
    "plt.xlabel(\"Number of loops\")\n",
    "plt.title(f\"Convergence of the estimated area. Number of points sampled was {35**2}.\")\n",
    "plt.savefig(\"precisionAreaOrtho.jpg\")"
   ]
  },
  {
   "cell_type": "code",
   "execution_count": 81,
   "id": "02849dee",
   "metadata": {},
   "outputs": [
    {
     "data": {
      "image/png": "[encoded data removed]",
      "text/plain": [
       "<Figure size 432x288 with 1 Axes>"
      ]
     },
     "metadata": {
      "needs_background": "light"
     },
     "output_type": "display_data"
    }
   ],
   "source": [
    "createBars(10, precisionResult)"
   ]
  },
  {
   "cell_type": "code",
   "execution_count": 82,
   "id": "a5bc45bd",
   "metadata": {},
   "outputs": [
    {
     "data": {
      "application/vnd.jupyter.widget-view+json": {
       "model_id": "14be1adb77844f8fb28f8cc71fb2434b",
       "version_major": 2,
       "version_minor": 0
      },
      "text/plain": [
       "  0%|          | 0/80 [00:00<?, ?it/s]"
      ]
     },
     "metadata": {},
     "output_type": "display_data"
    }
   ],
   "source": [
    "inputPointSize = 80\n",
    "inputPoint = np.arange(inputPointSize)\n",
    "np.random.shuffle(inputPoint)\n",
    "resultsPoint = Parallel(n_jobs=6)(delayed(monteCarloOrtho)(precision = 500, width = (i+1)**2)\n",
    "                                      for i in notebook.tqdm(inputPoint))\n",
    "\n",
    "arrPoint = np.array(resultsPoint)\n",
    "errorPoint = abs(arrPoint - arrPoint[np.where(inputPoint == inputPointSize-1)][0])\n",
    "pointResult = np.array((inputPoint, arrPoint, errorPoint))"
   ]
  },
  {
   "cell_type": "code",
   "execution_count": 83,
   "id": "03dd03f3",
   "metadata": {},
   "outputs": [
    {
     "data": {
      "image/png": "[encoded data removed]",
      "text/plain": [
       "<Figure size 432x288 with 1 Axes>"
      ]
     },
     "metadata": {
      "needs_background": "light"
     },
     "output_type": "display_data"
    }
   ],
   "source": [
    "plt.scatter(pointResult[0], pointResult[1])\n",
    "plt.ylabel(\"Estimated Area\")\n",
    "plt.xlabel(\"Number of points\")\n",
    "plt.title(f\"Convergence of the estimated area. Number of iterations was 500.\")\n",
    "plt.savefig(\"pointsAreaOrtho.jpg\")"
   ]
  },
  {
   "cell_type": "code",
   "execution_count": 84,
   "id": "89e0f372",
   "metadata": {},
   "outputs": [
    {
     "data": {
      "image/png": "[encoded data removed]",
      "text/plain": [
       "<Figure size 432x288 with 1 Axes>"
      ]
     },
     "metadata": {
      "needs_background": "light"
     },
     "output_type": "display_data"
    }
   ],
   "source": [
    "createBars(10, pointResult)"
   ]
  },
  {
   "cell_type": "code",
   "execution_count": 86,
   "id": "09e58ff8",
   "metadata": {},
   "outputs": [],
   "source": [
    "sort = getResults(pointResult)"
   ]
  },
  {
   "cell_type": "code",
   "execution_count": 90,
   "id": "28a47af9",
   "metadata": {},
   "outputs": [
    {
     "data": {
      "text/plain": [
       "array([[ 0.        ,  1.        ,  2.        ,  3.        ,  4.        ,\n",
       "         5.        ,  6.        ,  7.        ,  8.        ,  9.        ,\n",
       "        10.        , 11.        , 12.        , 13.        , 14.        ,\n",
       "        15.        , 16.        , 17.        , 18.        , 19.        ,\n",
       "        20.        , 21.        , 22.        , 23.        , 24.        ,\n",
       "        25.        , 26.        , 27.        , 28.        , 29.        ,\n",
       "        30.        , 31.        , 32.        , 33.        , 34.        ,\n",
       "        35.        , 36.        , 37.        , 38.        , 39.        ,\n",
       "        40.        , 41.        , 42.        , 43.        , 44.        ,\n",
       "        45.        , 46.        , 47.        , 48.        , 49.        ,\n",
       "        50.        , 51.        , 52.        , 53.        , 54.        ,\n",
       "        55.        , 56.        , 57.        , 58.        , 59.        ,\n",
       "        60.        , 61.        , 62.        , 63.        , 64.        ,\n",
       "        65.        , 66.        , 67.        , 68.        , 69.        ,\n",
       "        70.        , 71.        , 72.        , 73.        , 74.        ,\n",
       "        75.        , 76.        , 77.        , 78.        , 79.        ],\n",
       "       [ 0.        ,  2.89      ,  2.56888889,  0.7225    ,  2.312     ,\n",
       "         1.60555556,  1.65142857,  1.625625  ,  1.42716049,  1.5028    ,\n",
       "         1.52859504,  1.52527778,  1.4364497 ,  1.88734694,  1.69546667,\n",
       "         1.67078125,  1.52      ,  1.49851852,  1.50504155,  1.4739    ,\n",
       "         1.38929705,  1.62413223,  1.55153119,  1.50520833,  1.553664  ,\n",
       "         1.52195266,  1.47473251,  1.50397959,  1.55324614,  1.47711111,\n",
       "         1.44349636,  1.46757812,  1.50736455,  1.57      ,  1.48156735,\n",
       "         1.47175926,  1.5368298 ,  1.54506925,  1.57325444,  1.510025  ,\n",
       "         1.49227841,  1.51380952,  1.48798269,  1.52262397,  1.51279012,\n",
       "         1.49689981,  1.54377546,  1.53029514,  1.52143274,  1.535168  ,\n",
       "         1.51555556,  1.50057692,  1.51856177,  1.48266118,  1.51330909,\n",
       "         1.48923469,  1.54062173,  1.51200951,  1.51432347,  1.48995556,\n",
       "         1.54091911,  1.53371488,  1.52036281,  1.50144531,  1.49937988,\n",
       "         1.50736455,  1.50648251,  1.5425    ,  1.52725058,  1.49100408,\n",
       "         1.52038881,  1.50966821,  1.51848377,  1.5157195 ,  1.51872711,\n",
       "         1.51504848,  1.52079609,  1.5143524 ,  1.51330236,  1.51725   ]])"
      ]
     },
     "execution_count": 90,
     "metadata": {},
     "output_type": "execute_result"
    }
   ],
   "source": [
    "sort"
   ]
  },
  {
   "cell_type": "code",
   "execution_count": 129,
   "id": "c9353623",
   "metadata": {},
   "outputs": [],
   "source": [
    "def orthogonalFast(num_points):\n",
    "    major = int(np.sqrt(num_points))\n",
    "    # intialise the x and y lists\n",
    "    # the xlist keeps track what minor column has the sample in major cell with major cell i, j\n",
    "    # the ylist does the same for the minor row\n",
    "    xlist = np.zeros((major,major), np.int32)\n",
    "    ylist = np.zeros((major,major), np.int32)\n",
    "    \n",
    "    # start with the most simple solution\n",
    "    m = 0\n",
    "    for i in range(major):\n",
    "        for j in range(major):\n",
    "            xlist[i][j] = m\n",
    "            ylist[i][j] = m\n",
    "            m += 1\n",
    "    # shuffle the lists so that a random solution is obtained\n",
    "    for i in range(major):\n",
    "        np.random.shuffle(xlist[i])\n",
    "        np.random.shuffle(ylist[i])\n",
    "    return xlist, ylist"
   ]
  },
  {
   "cell_type": "code",
   "execution_count": 145,
   "id": "e5c4fdb5",
   "metadata": {},
   "outputs": [],
   "source": [
    "major =  2\n",
    "xlist, ylist = orthogonalFast(major**2)"
   ]
  },
  {
   "cell_type": "code",
   "execution_count": 146,
   "id": "526cf06d",
   "metadata": {},
   "outputs": [
    {
     "data": {
      "text/plain": [
       "array([[0, 1],\n",
       "       [2, 3]])"
      ]
     },
     "execution_count": 146,
     "metadata": {},
     "output_type": "execute_result"
    }
   ],
   "source": [
    "xlist"
   ]
  },
  {
   "cell_type": "code",
   "execution_count": 147,
   "id": "4c7dc727",
   "metadata": {},
   "outputs": [
    {
     "data": {
      "text/plain": [
       "array([[0, 1],\n",
       "       [3, 2]])"
      ]
     },
     "execution_count": 147,
     "metadata": {},
     "output_type": "execute_result"
    }
   ],
   "source": [
    "ylist"
   ]
  },
  {
   "cell_type": "code",
   "execution_count": 148,
   "id": "9cb1e3a2",
   "metadata": {},
   "outputs": [],
   "source": [
    "# retrieve the sample coordinates\n",
    "x=[]\n",
    "y=[]\n",
    "for i in range(major):\n",
    "    for j in range(major):\n",
    "        x.append(xlist[i][j])\n",
    "        y.append(ylist[i][j])"
   ]
  },
  {
   "cell_type": "code",
   "execution_count": 149,
   "id": "9b9aba11",
   "metadata": {},
   "outputs": [
    {
     "name": "stdout",
     "output_type": "stream",
     "text": [
      "[0, 1, 2, 3]\n",
      "[0, 1, 3, 2]\n"
     ]
    }
   ],
   "source": [
    "print(x)\n",
    "print(y)"
   ]
  },
  {
   "cell_type": "code",
   "execution_count": 151,
   "id": "8d24440c",
   "metadata": {},
   "outputs": [],
   "source": [
    "n=2\n",
    "blocks = {(i,j):[(a,b) for a in range(n) for b in range(n)] for i in range(n) for j in range(n)}"
   ]
  },
  {
   "cell_type": "code",
   "execution_count": 152,
   "id": "ed709a26",
   "metadata": {},
   "outputs": [
    {
     "name": "stdout",
     "output_type": "stream",
     "text": [
      "[(0, 0), (0, 1), (1, 0), (1, 1)]\n",
      "[(0, 0), (0, 1), (1, 0), (1, 1)]\n",
      "[(0, 0), (0, 1), (1, 0), (1, 1)]\n",
      "[(0, 0), (0, 1), (1, 0), (1, 1)]\n"
     ]
    }
   ],
   "source": [
    "for block in blocks:\n",
    "    print(blocks[block])"
   ]
  },
  {
   "cell_type": "code",
   "execution_count": 153,
   "id": "b3640680",
   "metadata": {},
   "outputs": [],
   "source": [
    "block = (0,0)\n",
    "point = random.choice(blocks[block])\n",
    "lst_row = [(k1, b) for (k1, b), v in blocks.items() if k1 == block[0]]\n",
    "lst_col = [(a, k1) for (a, k1), v in blocks.items() if k1 == block[1]]\n",
    "for col in lst_col:\n",
    "    blocks[col] = [a for a in blocks[col] if a[1] != point[1]]\n",
    "for row in lst_row:\n",
    "    blocks[row] = [a for a in blocks[row] if a[0] != point[0]]"
   ]
  },
  {
   "cell_type": "code",
   "execution_count": 155,
   "id": "09f24a19",
   "metadata": {},
   "outputs": [
    {
     "name": "stdout",
     "output_type": "stream",
     "text": [
      "[(0, 0), (0, 1)]\n",
      "[(0, 0), (1, 0)]\n"
     ]
    }
   ],
   "source": [
    "print(lst_row)\n",
    "print(lst_col)"
   ]
  },
  {
   "cell_type": "code",
   "execution_count": null,
   "id": "50ec73d5",
   "metadata": {},
   "outputs": [],
   "source": []
  }
 ],
 "metadata": {
  "kernelspec": {
   "display_name": "Python 3",
   "language": "python",
   "name": "python3"
  },
  "language_info": {
   "codemirror_mode": {
    "name": "ipython",
    "version": 3
   },
   "file_extension": ".py",
   "mimetype": "text/x-python",
   "name": "python",
   "nbconvert_exporter": "python",
   "pygments_lexer": "ipython3",
   "version": "3.9.2"
  }
 },
 "nbformat": 4,
 "nbformat_minor": 5
}

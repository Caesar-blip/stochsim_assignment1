{
 "cells": [
  {
   "cell_type": "code",
   "execution_count": 1,
   "id": "fa5b86a7",
   "metadata": {},
   "outputs": [],
   "source": [
    "from helpers import *"
   ]
  },
  {
   "cell_type": "code",
   "execution_count": null,
   "id": "b3c127f8",
   "metadata": {},
   "outputs": [],
   "source": [
    "# plot a pretty picture in the current directory called \"output.png\"\n",
    "simulator = mendelSim(precision = 50, num_points=100000)\n",
    "simulator.run_sim()"
   ]
  },
  {
   "cell_type": "code",
   "execution_count": null,
   "id": "7b007ef7",
   "metadata": {},
   "outputs": [],
   "source": [
    "# parallelize to speed up\n",
    "from joblib import Parallel, delayed\n",
    "from tqdm import notebook\n",
    "\n",
    "def monteCarlo(precision, num_points, simStrat):\n",
    "    # no plot simulator\n",
    "    simulator = mendelSim(precision=precision, num_points=num_points, simStrat = simStrat, draw=False, niceColors=False)\n",
    "    return simulator.run_sim()"
   ]
  },
  {
   "cell_type": "code",
   "execution_count": null,
   "id": "36c05d8d",
   "metadata": {},
   "outputs": [],
   "source": [
    "# try to get a good estimate of the influence of num_points (s) and precision(i)\n",
    "# alter amount of jobs to fit your system\n",
    "# results for precision\n",
    "# shuffle the input to enhance time estimate\n",
    "inputPrecisionSize = 1000\n",
    "inputPrecision = np.arange(inputPrecisionSize)\n",
    "np.random.shuffle(inputPrecision)\n",
    "resultsPrecision = Parallel(n_jobs=8)(delayed(monteCarlo)(simStrat = \"random\",precision = i, num_points = 30000)\n",
    "                                      for i in notebook.tqdm(inputPrecision))"
   ]
  },
  {
   "cell_type": "code",
   "execution_count": null,
   "id": "22478c55",
   "metadata": {},
   "outputs": [],
   "source": [
    "# results for number of points\n",
    "inputPointSize = 10000\n",
    "inputPoints = np.arange(inputPointSize)\n",
    "np.random.shuffle(inputPoints)\n",
    "resultsPoints = Parallel(n_jobs=8)(delayed(monteCarlo)(simStrat = \"random\",precision = 30, num_points = i+1) for i in notebook.tqdm(inputPoints))"
   ]
  },
  {
   "cell_type": "code",
   "execution_count": null,
   "id": "53548ca4",
   "metadata": {},
   "outputs": [],
   "source": [
    "# investigate the convergence of the two parameters\n",
    "# convert to np array to enhance speed\n",
    "\n",
    "arrPrecision = np.array(resultsPrecision)\n",
    "errorPrecision = abs(arrPrecision - arrPrecision[np.where(inputPrecision == inputPrecisionSize-1)][0])\n",
    "precisionResult = np.array((inputPrecision, arrPrecision, errorPrecision))\n",
    "\n",
    "\n",
    "arrPoints = np.array(resultsPoints)\n",
    "errorPoints = abs(arrPoints - arrPoints[np.where(inputPoints == inputPointSize-1)[0]])\n",
    "pointResult = np.array((inputPoints, arrPoints, errorPoints))\n"
   ]
  },
  {
   "cell_type": "code",
   "execution_count": null,
   "id": "64dbb723",
   "metadata": {},
   "outputs": [],
   "source": [
    "plt.scatter(precisionResult[0], precisionResult[1])\n",
    "plt.ylabel(\"Estimated Area\")\n",
    "plt.xlabel(\"Number of loops\")\n",
    "plt.title(f\"Convergence of the estimated area. Number of points sampled was 30000.\\n Final estimated area size was {arrPrecision[-1]}\")\n",
    "plt.savefig(\"precisionArea.jpg\")"
   ]
  },
  {
   "cell_type": "code",
   "execution_count": null,
   "id": "8e7918ca",
   "metadata": {},
   "outputs": [],
   "source": [
    "plt.scatter(precisionResult[0], precisionResult[2])\n",
    "plt.ylabel(\"Error\")\n",
    "plt.xlabel(\"Number of loops\")\n",
    "plt.title(f\"Convergence of the number of iterations. Number of points sampled was 30000.\\n Final estimated area size was {arrPrecision[-1]}\")\n",
    "plt.savefig(\"precisionConvergence.jpg\")"
   ]
  },
  {
   "cell_type": "code",
   "execution_count": null,
   "id": "0149f345",
   "metadata": {},
   "outputs": [],
   "source": [
    "plt.scatter(pointResult[0], pointResult[1])\n",
    "plt.ylabel(\"Estimated Area\")\n",
    "plt.xlabel(\"Number of points\")\n",
    "plt.title(f\"Convergence of the estimated area. Number of iterations was 100.\\n Final estimated area size was {arrPoints[-1]}\")\n",
    "plt.savefig(\"pointsArea.jpg\")"
   ]
  },
  {
   "cell_type": "code",
   "execution_count": null,
   "id": "3aae4e75",
   "metadata": {},
   "outputs": [],
   "source": [
    "plt.scatter(pointResult[0], pointResult[2])\n",
    "plt.ylabel(\"Error\")\n",
    "plt.xlabel(\"Number of points\")\n",
    "plt.title(f\"Convergence of the error for the number of points. Number of iterations was 100.\\n Final estimated area size was {arrPoints[-1]}\")\n",
    "plt.savefig(\"pointsArea.jpg\")"
   ]
  },
  {
   "cell_type": "code",
   "execution_count": 2,
   "id": "68ba2dca",
   "metadata": {},
   "outputs": [
    {
     "data": {
      "text/plain": [
       "1.5028"
      ]
     },
     "execution_count": 2,
     "metadata": {},
     "output_type": "execute_result"
    }
   ],
   "source": [
    "simulator = mendelSim(simStrat = \"latin\", width = 1000, aspectRatio = 1, precision = 100)\n",
    "simulator.run_sim()"
   ]
  }
 ],
 "metadata": {
  "kernelspec": {
   "display_name": "Python 3",
   "language": "python",
   "name": "python3"
  },
  "language_info": {
   "codemirror_mode": {
    "name": "ipython",
    "version": 3
   },
   "file_extension": ".py",
   "mimetype": "text/x-python",
   "name": "python",
   "nbconvert_exporter": "python",
   "pygments_lexer": "ipython3",
   "version": "3.9.2"
  }
 },
 "nbformat": 4,
 "nbformat_minor": 5
}
